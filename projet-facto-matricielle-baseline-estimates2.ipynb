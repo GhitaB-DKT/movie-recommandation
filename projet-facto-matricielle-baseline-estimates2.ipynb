{
 "cells": [
  {
   "cell_type": "markdown",
   "metadata": {},
   "source": [
    "# Importations"
   ]
  },
  {
   "cell_type": "code",
   "execution_count": 12,
   "metadata": {},
   "outputs": [],
   "source": [
    "from sklearn.metrics import mean_squared_error\n",
    "import gc"
   ]
  },
  {
   "cell_type": "code",
   "execution_count": 13,
   "metadata": {},
   "outputs": [],
   "source": [
    "import math"
   ]
  },
  {
   "cell_type": "code",
   "execution_count": 14,
   "metadata": {
    "_cell_guid": "79c7e3d0-c299-4dcb-8224-4455121ee9b0",
    "_uuid": "d629ff2d2480ee46fbb7e2d37f6b5fab8052498a"
   },
   "outputs": [],
   "source": [
    "import numpy as np\n",
    "import pandas as pd\n",
    "import seaborn as sns\n",
    "from matplotlib import pyplot as plt\n",
    "from tqdm import tqdm\n",
    "from numpy import save"
   ]
  },
  {
   "cell_type": "markdown",
   "metadata": {},
   "source": [
    "# Read Data"
   ]
  },
  {
   "cell_type": "code",
   "execution_count": 15,
   "metadata": {},
   "outputs": [],
   "source": [
    "bookmarks = pd.read_csv(\"./recommendation/bookmarks.csv\")\n",
    "#assets = pd.read_csv(\"../input/recommendations/assets.csv\", index_col=0)\n",
    "#assets_genres = pd.read_csv(\"../input/recommendations/asset_genres.csv\")\n",
    "favorites = pd.read_csv(\"./recommendation/favorites.csv\")\n",
    "#genres = pd.read_csv(\"../input/recommendations/genres.csv\")\n",
    "ratings = pd.read_csv(\"./recommendation/ratings.csv\")"
   ]
  },
  {
   "cell_type": "code",
   "execution_count": 16,
   "metadata": {},
   "outputs": [
    {
     "data": {
      "text/html": [
       "<div>\n",
       "<style scoped>\n",
       "    .dataframe tbody tr th:only-of-type {\n",
       "        vertical-align: middle;\n",
       "    }\n",
       "\n",
       "    .dataframe tbody tr th {\n",
       "        vertical-align: top;\n",
       "    }\n",
       "\n",
       "    .dataframe thead th {\n",
       "        text-align: right;\n",
       "    }\n",
       "</style>\n",
       "<table border=\"1\" class=\"dataframe\">\n",
       "  <thead>\n",
       "    <tr style=\"text-align: right;\">\n",
       "      <th></th>\n",
       "      <th>id_profile</th>\n",
       "      <th>id_asset</th>\n",
       "      <th>time</th>\n",
       "    </tr>\n",
       "  </thead>\n",
       "  <tbody>\n",
       "    <tr>\n",
       "      <th>0</th>\n",
       "      <td>10</td>\n",
       "      <td>24016</td>\n",
       "      <td>0</td>\n",
       "    </tr>\n",
       "    <tr>\n",
       "      <th>1</th>\n",
       "      <td>10</td>\n",
       "      <td>24042</td>\n",
       "      <td>0</td>\n",
       "    </tr>\n",
       "    <tr>\n",
       "      <th>2</th>\n",
       "      <td>10</td>\n",
       "      <td>24130</td>\n",
       "      <td>0</td>\n",
       "    </tr>\n",
       "    <tr>\n",
       "      <th>3</th>\n",
       "      <td>10</td>\n",
       "      <td>24250</td>\n",
       "      <td>0</td>\n",
       "    </tr>\n",
       "    <tr>\n",
       "      <th>4</th>\n",
       "      <td>10</td>\n",
       "      <td>24359</td>\n",
       "      <td>19000</td>\n",
       "    </tr>\n",
       "  </tbody>\n",
       "</table>\n",
       "</div>"
      ],
      "text/plain": [
       "   id_profile  id_asset   time\n",
       "0          10     24016      0\n",
       "1          10     24042      0\n",
       "2          10     24130      0\n",
       "3          10     24250      0\n",
       "4          10     24359  19000"
      ]
     },
     "execution_count": 16,
     "metadata": {},
     "output_type": "execute_result"
    }
   ],
   "source": [
    "bookmarks.head()"
   ]
  },
  {
   "cell_type": "code",
   "execution_count": 17,
   "metadata": {},
   "outputs": [
    {
     "data": {
      "text/html": [
       "<div>\n",
       "<style scoped>\n",
       "    .dataframe tbody tr th:only-of-type {\n",
       "        vertical-align: middle;\n",
       "    }\n",
       "\n",
       "    .dataframe tbody tr th {\n",
       "        vertical-align: top;\n",
       "    }\n",
       "\n",
       "    .dataframe thead th {\n",
       "        text-align: right;\n",
       "    }\n",
       "</style>\n",
       "<table border=\"1\" class=\"dataframe\">\n",
       "  <thead>\n",
       "    <tr style=\"text-align: right;\">\n",
       "      <th></th>\n",
       "      <th>id_profile</th>\n",
       "      <th>score</th>\n",
       "      <th>time</th>\n",
       "      <th>id_asset</th>\n",
       "    </tr>\n",
       "  </thead>\n",
       "  <tbody>\n",
       "    <tr>\n",
       "      <th>0</th>\n",
       "      <td>581352</td>\n",
       "      <td>5.0</td>\n",
       "      <td>1555296701000</td>\n",
       "      <td>23568</td>\n",
       "    </tr>\n",
       "    <tr>\n",
       "      <th>1</th>\n",
       "      <td>1043474</td>\n",
       "      <td>5.0</td>\n",
       "      <td>1539800341000</td>\n",
       "      <td>385428</td>\n",
       "    </tr>\n",
       "    <tr>\n",
       "      <th>2</th>\n",
       "      <td>420488</td>\n",
       "      <td>3.5</td>\n",
       "      <td>1518482338000</td>\n",
       "      <td>26464</td>\n",
       "    </tr>\n",
       "    <tr>\n",
       "      <th>3</th>\n",
       "      <td>1277812</td>\n",
       "      <td>5.0</td>\n",
       "      <td>1565056946000</td>\n",
       "      <td>443500</td>\n",
       "    </tr>\n",
       "    <tr>\n",
       "      <th>4</th>\n",
       "      <td>327953</td>\n",
       "      <td>5.0</td>\n",
       "      <td>1508631887000</td>\n",
       "      <td>34243</td>\n",
       "    </tr>\n",
       "  </tbody>\n",
       "</table>\n",
       "</div>"
      ],
      "text/plain": [
       "   id_profile  score           time  id_asset\n",
       "0      581352    5.0  1555296701000     23568\n",
       "1     1043474    5.0  1539800341000    385428\n",
       "2      420488    3.5  1518482338000     26464\n",
       "3     1277812    5.0  1565056946000    443500\n",
       "4      327953    5.0  1508631887000     34243"
      ]
     },
     "execution_count": 17,
     "metadata": {},
     "output_type": "execute_result"
    }
   ],
   "source": [
    "ratings.head()"
   ]
  },
  {
   "cell_type": "code",
   "execution_count": 18,
   "metadata": {},
   "outputs": [
    {
     "data": {
      "text/html": [
       "<div>\n",
       "<style scoped>\n",
       "    .dataframe tbody tr th:only-of-type {\n",
       "        vertical-align: middle;\n",
       "    }\n",
       "\n",
       "    .dataframe tbody tr th {\n",
       "        vertical-align: top;\n",
       "    }\n",
       "\n",
       "    .dataframe thead th {\n",
       "        text-align: right;\n",
       "    }\n",
       "</style>\n",
       "<table border=\"1\" class=\"dataframe\">\n",
       "  <thead>\n",
       "    <tr style=\"text-align: right;\">\n",
       "      <th></th>\n",
       "      <th>id_profile</th>\n",
       "      <th>id_asset</th>\n",
       "      <th>added_date</th>\n",
       "    </tr>\n",
       "  </thead>\n",
       "  <tbody>\n",
       "    <tr>\n",
       "      <th>0</th>\n",
       "      <td>144</td>\n",
       "      <td>1486</td>\n",
       "      <td>1567660088461</td>\n",
       "    </tr>\n",
       "    <tr>\n",
       "      <th>1</th>\n",
       "      <td>144</td>\n",
       "      <td>374333</td>\n",
       "      <td>1567660088461</td>\n",
       "    </tr>\n",
       "    <tr>\n",
       "      <th>2</th>\n",
       "      <td>144</td>\n",
       "      <td>443500</td>\n",
       "      <td>1567660088461</td>\n",
       "    </tr>\n",
       "    <tr>\n",
       "      <th>3</th>\n",
       "      <td>2367</td>\n",
       "      <td>24056</td>\n",
       "      <td>1567660088461</td>\n",
       "    </tr>\n",
       "    <tr>\n",
       "      <th>4</th>\n",
       "      <td>2472</td>\n",
       "      <td>24152</td>\n",
       "      <td>1567660088461</td>\n",
       "    </tr>\n",
       "  </tbody>\n",
       "</table>\n",
       "</div>"
      ],
      "text/plain": [
       "   id_profile  id_asset     added_date\n",
       "0         144      1486  1567660088461\n",
       "1         144    374333  1567660088461\n",
       "2         144    443500  1567660088461\n",
       "3        2367     24056  1567660088461\n",
       "4        2472     24152  1567660088461"
      ]
     },
     "execution_count": 18,
     "metadata": {},
     "output_type": "execute_result"
    }
   ],
   "source": [
    "favorites.head()"
   ]
  },
  {
   "cell_type": "markdown",
   "metadata": {},
   "source": [
    "# Compute Interests"
   ]
  },
  {
   "cell_type": "code",
   "execution_count": 19,
   "metadata": {},
   "outputs": [],
   "source": [
    "def interest_generator(bookmarks):\n",
    "    bookmarks = bookmarks.merge(ratings.drop(\"time\", axis=1), on=['id_profile', 'id_asset'], how = \"left\")\\\n",
    "                         .merge(favorites, on=['id_profile', 'id_asset'], how = \"left\")\\\n",
    "                         .fillna(0)\n",
    "    bookmarks[\"w\"] = [1 for i in range(len(bookmarks))]\n",
    "    bookmarks[\"n\"] = bookmarks[\"score\"]\n",
    "    bookmarks[\"f\"] = bookmarks[\"added_date\"].apply(lambda x : 5 if x>0 else 0)\n",
    "    bookmarks[\"interest\"] = bookmarks[\"w\"] + bookmarks[\"n\"] + bookmarks[\"f\"]\n",
    "    return bookmarks[[\"id_profile\", \"id_asset\", \"interest\"]]"
   ]
  },
  {
   "cell_type": "code",
   "execution_count": 20,
   "metadata": {},
   "outputs": [],
   "source": [
    "bookmarks = interest_generator(bookmarks)\n",
    "del ratings\n",
    "del favorites"
   ]
  },
  {
   "cell_type": "code",
   "execution_count": 21,
   "metadata": {},
   "outputs": [
    {
     "data": {
      "text/html": [
       "<div>\n",
       "<style scoped>\n",
       "    .dataframe tbody tr th:only-of-type {\n",
       "        vertical-align: middle;\n",
       "    }\n",
       "\n",
       "    .dataframe tbody tr th {\n",
       "        vertical-align: top;\n",
       "    }\n",
       "\n",
       "    .dataframe thead th {\n",
       "        text-align: right;\n",
       "    }\n",
       "</style>\n",
       "<table border=\"1\" class=\"dataframe\">\n",
       "  <thead>\n",
       "    <tr style=\"text-align: right;\">\n",
       "      <th></th>\n",
       "      <th>id_profile</th>\n",
       "      <th>id_asset</th>\n",
       "      <th>interest</th>\n",
       "    </tr>\n",
       "  </thead>\n",
       "  <tbody>\n",
       "    <tr>\n",
       "      <th>0</th>\n",
       "      <td>10</td>\n",
       "      <td>24016</td>\n",
       "      <td>1.0</td>\n",
       "    </tr>\n",
       "    <tr>\n",
       "      <th>1</th>\n",
       "      <td>10</td>\n",
       "      <td>24042</td>\n",
       "      <td>1.0</td>\n",
       "    </tr>\n",
       "    <tr>\n",
       "      <th>2</th>\n",
       "      <td>10</td>\n",
       "      <td>24130</td>\n",
       "      <td>1.0</td>\n",
       "    </tr>\n",
       "    <tr>\n",
       "      <th>3</th>\n",
       "      <td>10</td>\n",
       "      <td>24250</td>\n",
       "      <td>1.0</td>\n",
       "    </tr>\n",
       "    <tr>\n",
       "      <th>4</th>\n",
       "      <td>10</td>\n",
       "      <td>24359</td>\n",
       "      <td>1.0</td>\n",
       "    </tr>\n",
       "  </tbody>\n",
       "</table>\n",
       "</div>"
      ],
      "text/plain": [
       "   id_profile  id_asset  interest\n",
       "0          10     24016       1.0\n",
       "1          10     24042       1.0\n",
       "2          10     24130       1.0\n",
       "3          10     24250       1.0\n",
       "4          10     24359       1.0"
      ]
     },
     "execution_count": 21,
     "metadata": {},
     "output_type": "execute_result"
    }
   ],
   "source": [
    "bookmarks.head()"
   ]
  },
  {
   "cell_type": "code",
   "execution_count": 22,
   "metadata": {},
   "outputs": [],
   "source": [
    "train = np.load('./recommendation/bookmarks_idx_train.npy')\n",
    "test = np.load('./recommendation/bookmarks_idx_test.npy')"
   ]
  },
  {
   "cell_type": "code",
   "execution_count": 23,
   "metadata": {},
   "outputs": [],
   "source": [
    "train_set = bookmarks.iloc[train].drop_duplicates(subset=['id_profile', 'id_asset'])\n",
    "del train\n",
    "test_set = bookmarks.iloc[test].drop_duplicates(subset=['id_profile', 'id_asset'])\n",
    "del test\n",
    "del bookmarks"
   ]
  },
  {
   "cell_type": "markdown",
   "metadata": {},
   "source": [
    "# Baseline Estimates"
   ]
  },
  {
   "cell_type": "code",
   "execution_count": 24,
   "metadata": {},
   "outputs": [],
   "source": [
    "from scipy import sparse"
   ]
  },
  {
   "cell_type": "code",
   "execution_count": 25,
   "metadata": {},
   "outputs": [
    {
     "data": {
      "text/html": [
       "<div>\n",
       "<style scoped>\n",
       "    .dataframe tbody tr th:only-of-type {\n",
       "        vertical-align: middle;\n",
       "    }\n",
       "\n",
       "    .dataframe tbody tr th {\n",
       "        vertical-align: top;\n",
       "    }\n",
       "\n",
       "    .dataframe thead th {\n",
       "        text-align: right;\n",
       "    }\n",
       "</style>\n",
       "<table border=\"1\" class=\"dataframe\">\n",
       "  <thead>\n",
       "    <tr style=\"text-align: right;\">\n",
       "      <th></th>\n",
       "      <th>id_profile</th>\n",
       "      <th>id_asset</th>\n",
       "      <th>interest</th>\n",
       "    </tr>\n",
       "  </thead>\n",
       "  <tbody>\n",
       "    <tr>\n",
       "      <th>39963458</th>\n",
       "      <td>326534</td>\n",
       "      <td>202094</td>\n",
       "      <td>1.0</td>\n",
       "    </tr>\n",
       "    <tr>\n",
       "      <th>41808284</th>\n",
       "      <td>133318</td>\n",
       "      <td>5343689</td>\n",
       "      <td>1.0</td>\n",
       "    </tr>\n",
       "    <tr>\n",
       "      <th>37973227</th>\n",
       "      <td>1101174</td>\n",
       "      <td>86739</td>\n",
       "      <td>1.0</td>\n",
       "    </tr>\n",
       "    <tr>\n",
       "      <th>43528603</th>\n",
       "      <td>1264136</td>\n",
       "      <td>5349884</td>\n",
       "      <td>1.0</td>\n",
       "    </tr>\n",
       "    <tr>\n",
       "      <th>9434040</th>\n",
       "      <td>1093487</td>\n",
       "      <td>1547</td>\n",
       "      <td>1.0</td>\n",
       "    </tr>\n",
       "  </tbody>\n",
       "</table>\n",
       "</div>"
      ],
      "text/plain": [
       "          id_profile  id_asset  interest\n",
       "39963458      326534    202094       1.0\n",
       "41808284      133318   5343689       1.0\n",
       "37973227     1101174     86739       1.0\n",
       "43528603     1264136   5349884       1.0\n",
       "9434040      1093487      1547       1.0"
      ]
     },
     "execution_count": 25,
     "metadata": {},
     "output_type": "execute_result"
    }
   ],
   "source": [
    "train_set.head()"
   ]
  },
  {
   "cell_type": "code",
   "execution_count": 26,
   "metadata": {},
   "outputs": [],
   "source": [
    "rui_bu = train_set.groupby(\"id_profile\")[\"interest\"].apply(sum).to_numpy()\n",
    "rui_bi = train_set.groupby(\"id_asset\")[\"interest\"].apply(sum).to_numpy()"
   ]
  },
  {
   "cell_type": "code",
   "execution_count": 27,
   "metadata": {},
   "outputs": [],
   "source": [
    "unique_assets_train = pd.unique(train_set.id_asset)\n",
    "unique_profiles_train = pd.unique(train_set.id_profile)\n",
    "\n",
    "number_of_films = len(unique_assets_train)\n",
    "number_of_users = len(unique_profiles_train)"
   ]
  },
  {
   "cell_type": "code",
   "execution_count": 28,
   "metadata": {},
   "outputs": [],
   "source": [
    "mu = np.mean(train_set.interest.values)"
   ]
  },
  {
   "cell_type": "code",
   "execution_count": 29,
   "metadata": {},
   "outputs": [],
   "source": [
    "del train_set"
   ]
  },
  {
   "cell_type": "code",
   "execution_count": 30,
   "metadata": {},
   "outputs": [],
   "source": [
    "bu = np.random.randn(number_of_users)\n",
    "bi = np.random.randn(number_of_films)"
   ]
  },
  {
   "cell_type": "code",
   "execution_count": 31,
   "metadata": {},
   "outputs": [],
   "source": [
    "epochs = 100\n",
    "learning_rate = 0.0000001\n",
    "reg = 0.02\n",
    "\n",
    "mean_cost_derivatives_bu = list() \n",
    "mean_cost_derivatives_bi = list() \n",
    "\n",
    "for epoch in range(1, epochs+1):\n",
    "    #cost = np.sum(np.power(rui - sparse.csc_matrix(mu) - sparse.csc_matrix(bu + bi.T), 2)) + reg*(np.sum(np.power(bu, 2)) + np.sum(np.power(bi, 2)))\n",
    "    #print(cost)\n",
    "     \n",
    "    cost_derivative_bu = 2*(-rui_bu + number_of_films*mu + number_of_films*bu + np.sum(bi, axis=None) + reg*bu)\n",
    "    cost_derivative_bi = 2*(-rui_bi + number_of_users*mu + number_of_users*bi + np.sum(bu, axis=None) + reg*bi)\n",
    "    \n",
    "    mean_cost_derivatives_bu.append(np.mean(cost_derivative_bu))\n",
    "    mean_cost_derivatives_bi.append(np.mean(cost_derivative_bi))\n",
    "    \n",
    "    bu = bu - learning_rate*cost_derivative_bu\n",
    "    bi = bi - learning_rate*cost_derivative_bi\n",
    "    gc.collect()"
   ]
  },
  {
   "cell_type": "code",
   "execution_count": null,
   "metadata": {},
   "outputs": [],
   "source": [
    "del rui_bu\n",
    "del rui_bi"
   ]
  },
  {
   "cell_type": "code",
   "execution_count": null,
   "metadata": {},
   "outputs": [],
   "source": [
    "fig, ax = plt.subplots(figsize=(20, 10))\n",
    "ax = plt.plot(mean_cost_derivatives_bu)\n",
    "ax = plt.plot(mean_cost_derivatives_bi)\n",
    "plt.title(\"Mean Derivative Cost Function Evolution (Baseline Estimates++)\")\n",
    "plt.xlabel('Epoch')\n",
    "plt.ylabel('Regularized Cost Derivative')"
   ]
  },
  {
   "cell_type": "code",
   "execution_count": null,
   "metadata": {},
   "outputs": [],
   "source": [
    "hashmap_bu = {k:v for k,v in zip(unique_profiles_train, bu)}\n",
    "hashmap_bi = {k:v for k,v in zip(unique_assets_train, bi)}"
   ]
  },
  {
   "cell_type": "code",
   "execution_count": null,
   "metadata": {},
   "outputs": [],
   "source": [
    "np.save('bu.npy', bu)\n",
    "np.save('bi.npy', bi)"
   ]
  },
  {
   "cell_type": "code",
   "execution_count": null,
   "metadata": {},
   "outputs": [],
   "source": [
    "test_set.head()"
   ]
  },
  {
   "cell_type": "code",
   "execution_count": null,
   "metadata": {},
   "outputs": [],
   "source": [
    "def predict_interest(u, i):\n",
    "    pred = mu\n",
    "    \n",
    "    try:\n",
    "        pred += hashmap_bu[u]\n",
    "    except KeyError:\n",
    "        print(\"User {} not found\".format(u))\n",
    "        \n",
    "    try:\n",
    "        pred += hashmap_bi[i]\n",
    "    except KeyError:\n",
    "        print(\"Film {} not found\".format(i))\n",
    "        \n",
    "    return pred"
   ]
  },
  {
   "cell_type": "code",
   "execution_count": null,
   "metadata": {},
   "outputs": [],
   "source": [
    "test_set[\"predicted_interest\"] = [predict_interest(u, i) for u,i in zip(test_set.id_profile.values, test_set.id_asset.values)]"
   ]
  },
  {
   "cell_type": "code",
   "execution_count": null,
   "metadata": {},
   "outputs": [],
   "source": [
    "test_set.head(50)"
   ]
  },
  {
   "cell_type": "code",
   "execution_count": null,
   "metadata": {},
   "outputs": [],
   "source": [
    "mean_squared_error(test_set.interest.values, test_set.predicted_interest.values)"
   ]
  }
 ],
 "metadata": {
  "kernelspec": {
   "display_name": "Python 3",
   "language": "python",
   "name": "python3"
  },
  "language_info": {
   "codemirror_mode": {
    "name": "ipython",
    "version": 3
   },
   "file_extension": ".py",
   "mimetype": "text/x-python",
   "name": "python",
   "nbconvert_exporter": "python",
   "pygments_lexer": "ipython3",
   "version": "3.8.5"
  }
 },
 "nbformat": 4,
 "nbformat_minor": 4
}