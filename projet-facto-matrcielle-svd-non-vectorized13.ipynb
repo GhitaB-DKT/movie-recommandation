{
 "cells": [
  {
   "cell_type": "markdown",
   "metadata": {},
   "source": [
    "# Importations"
   ]
  },
  {
   "cell_type": "code",
   "execution_count": 1,
   "metadata": {},
   "outputs": [],
   "source": [
    "from sklearn.metrics import mean_squared_error\n",
    "import gc\n",
    "from scipy import sparse"
   ]
  },
  {
   "cell_type": "code",
   "execution_count": 2,
   "metadata": {},
   "outputs": [],
   "source": [
    "import math"
   ]
  },
  {
   "cell_type": "code",
   "execution_count": 3,
   "metadata": {
    "_cell_guid": "79c7e3d0-c299-4dcb-8224-4455121ee9b0",
    "_uuid": "d629ff2d2480ee46fbb7e2d37f6b5fab8052498a"
   },
   "outputs": [],
   "source": [
    "import numpy as np\n",
    "import pandas as pd\n",
    "import seaborn as sns\n",
    "from matplotlib import pyplot as plt\n",
    "from tqdm import tqdm\n",
    "from numpy import save"
   ]
  },
  {
   "cell_type": "markdown",
   "metadata": {},
   "source": [
    "# Read Data"
   ]
  },
  {
   "cell_type": "code",
   "execution_count": 4,
   "metadata": {},
   "outputs": [],
   "source": [
    "bookmarks = pd.read_csv(\"./recommendation/bookmarks.csv\")\n",
    "#assets = pd.read_csv(\"../recommendations/assets.csv\", index_col=0)\n",
    "#assets_genres = pd.read_csv(\"../recommendations/asset_genres.csv\")\n",
    "favorites = pd.read_csv(\"./recommendation/favorites.csv\")\n",
    "#genres = pd.read_csv(\"../recommendations/genres.csv\")\n",
    "ratings = pd.read_csv(\"./recommendation/ratings.csv\")"
   ]
  },
  {
   "cell_type": "code",
   "execution_count": 5,
   "metadata": {},
   "outputs": [
    {
     "data": {
      "text/html": [
       "<div>\n",
       "<style scoped>\n",
       "    .dataframe tbody tr th:only-of-type {\n",
       "        vertical-align: middle;\n",
       "    }\n",
       "\n",
       "    .dataframe tbody tr th {\n",
       "        vertical-align: top;\n",
       "    }\n",
       "\n",
       "    .dataframe thead th {\n",
       "        text-align: right;\n",
       "    }\n",
       "</style>\n",
       "<table border=\"1\" class=\"dataframe\">\n",
       "  <thead>\n",
       "    <tr style=\"text-align: right;\">\n",
       "      <th></th>\n",
       "      <th>id_profile</th>\n",
       "      <th>id_asset</th>\n",
       "      <th>time</th>\n",
       "    </tr>\n",
       "  </thead>\n",
       "  <tbody>\n",
       "    <tr>\n",
       "      <th>0</th>\n",
       "      <td>10</td>\n",
       "      <td>24016</td>\n",
       "      <td>0</td>\n",
       "    </tr>\n",
       "    <tr>\n",
       "      <th>1</th>\n",
       "      <td>10</td>\n",
       "      <td>24042</td>\n",
       "      <td>0</td>\n",
       "    </tr>\n",
       "    <tr>\n",
       "      <th>2</th>\n",
       "      <td>10</td>\n",
       "      <td>24130</td>\n",
       "      <td>0</td>\n",
       "    </tr>\n",
       "    <tr>\n",
       "      <th>3</th>\n",
       "      <td>10</td>\n",
       "      <td>24250</td>\n",
       "      <td>0</td>\n",
       "    </tr>\n",
       "    <tr>\n",
       "      <th>4</th>\n",
       "      <td>10</td>\n",
       "      <td>24359</td>\n",
       "      <td>19000</td>\n",
       "    </tr>\n",
       "  </tbody>\n",
       "</table>\n",
       "</div>"
      ],
      "text/plain": [
       "   id_profile  id_asset   time\n",
       "0          10     24016      0\n",
       "1          10     24042      0\n",
       "2          10     24130      0\n",
       "3          10     24250      0\n",
       "4          10     24359  19000"
      ]
     },
     "execution_count": 5,
     "metadata": {},
     "output_type": "execute_result"
    }
   ],
   "source": [
    "bookmarks.head()"
   ]
  },
  {
   "cell_type": "code",
   "execution_count": 6,
   "metadata": {},
   "outputs": [
    {
     "data": {
      "text/html": [
       "<div>\n",
       "<style scoped>\n",
       "    .dataframe tbody tr th:only-of-type {\n",
       "        vertical-align: middle;\n",
       "    }\n",
       "\n",
       "    .dataframe tbody tr th {\n",
       "        vertical-align: top;\n",
       "    }\n",
       "\n",
       "    .dataframe thead th {\n",
       "        text-align: right;\n",
       "    }\n",
       "</style>\n",
       "<table border=\"1\" class=\"dataframe\">\n",
       "  <thead>\n",
       "    <tr style=\"text-align: right;\">\n",
       "      <th></th>\n",
       "      <th>id_profile</th>\n",
       "      <th>score</th>\n",
       "      <th>time</th>\n",
       "      <th>id_asset</th>\n",
       "    </tr>\n",
       "  </thead>\n",
       "  <tbody>\n",
       "    <tr>\n",
       "      <th>0</th>\n",
       "      <td>581352</td>\n",
       "      <td>5.0</td>\n",
       "      <td>1555296701000</td>\n",
       "      <td>23568</td>\n",
       "    </tr>\n",
       "    <tr>\n",
       "      <th>1</th>\n",
       "      <td>1043474</td>\n",
       "      <td>5.0</td>\n",
       "      <td>1539800341000</td>\n",
       "      <td>385428</td>\n",
       "    </tr>\n",
       "    <tr>\n",
       "      <th>2</th>\n",
       "      <td>420488</td>\n",
       "      <td>3.5</td>\n",
       "      <td>1518482338000</td>\n",
       "      <td>26464</td>\n",
       "    </tr>\n",
       "    <tr>\n",
       "      <th>3</th>\n",
       "      <td>1277812</td>\n",
       "      <td>5.0</td>\n",
       "      <td>1565056946000</td>\n",
       "      <td>443500</td>\n",
       "    </tr>\n",
       "    <tr>\n",
       "      <th>4</th>\n",
       "      <td>327953</td>\n",
       "      <td>5.0</td>\n",
       "      <td>1508631887000</td>\n",
       "      <td>34243</td>\n",
       "    </tr>\n",
       "  </tbody>\n",
       "</table>\n",
       "</div>"
      ],
      "text/plain": [
       "   id_profile  score           time  id_asset\n",
       "0      581352    5.0  1555296701000     23568\n",
       "1     1043474    5.0  1539800341000    385428\n",
       "2      420488    3.5  1518482338000     26464\n",
       "3     1277812    5.0  1565056946000    443500\n",
       "4      327953    5.0  1508631887000     34243"
      ]
     },
     "execution_count": 6,
     "metadata": {},
     "output_type": "execute_result"
    }
   ],
   "source": [
    "ratings.head()"
   ]
  },
  {
   "cell_type": "code",
   "execution_count": 7,
   "metadata": {},
   "outputs": [
    {
     "data": {
      "text/html": [
       "<div>\n",
       "<style scoped>\n",
       "    .dataframe tbody tr th:only-of-type {\n",
       "        vertical-align: middle;\n",
       "    }\n",
       "\n",
       "    .dataframe tbody tr th {\n",
       "        vertical-align: top;\n",
       "    }\n",
       "\n",
       "    .dataframe thead th {\n",
       "        text-align: right;\n",
       "    }\n",
       "</style>\n",
       "<table border=\"1\" class=\"dataframe\">\n",
       "  <thead>\n",
       "    <tr style=\"text-align: right;\">\n",
       "      <th></th>\n",
       "      <th>id_profile</th>\n",
       "      <th>id_asset</th>\n",
       "      <th>added_date</th>\n",
       "    </tr>\n",
       "  </thead>\n",
       "  <tbody>\n",
       "    <tr>\n",
       "      <th>0</th>\n",
       "      <td>144</td>\n",
       "      <td>1486</td>\n",
       "      <td>1567660088461</td>\n",
       "    </tr>\n",
       "    <tr>\n",
       "      <th>1</th>\n",
       "      <td>144</td>\n",
       "      <td>374333</td>\n",
       "      <td>1567660088461</td>\n",
       "    </tr>\n",
       "    <tr>\n",
       "      <th>2</th>\n",
       "      <td>144</td>\n",
       "      <td>443500</td>\n",
       "      <td>1567660088461</td>\n",
       "    </tr>\n",
       "    <tr>\n",
       "      <th>3</th>\n",
       "      <td>2367</td>\n",
       "      <td>24056</td>\n",
       "      <td>1567660088461</td>\n",
       "    </tr>\n",
       "    <tr>\n",
       "      <th>4</th>\n",
       "      <td>2472</td>\n",
       "      <td>24152</td>\n",
       "      <td>1567660088461</td>\n",
       "    </tr>\n",
       "  </tbody>\n",
       "</table>\n",
       "</div>"
      ],
      "text/plain": [
       "   id_profile  id_asset     added_date\n",
       "0         144      1486  1567660088461\n",
       "1         144    374333  1567660088461\n",
       "2         144    443500  1567660088461\n",
       "3        2367     24056  1567660088461\n",
       "4        2472     24152  1567660088461"
      ]
     },
     "execution_count": 7,
     "metadata": {},
     "output_type": "execute_result"
    }
   ],
   "source": [
    "favorites.head()"
   ]
  },
  {
   "cell_type": "markdown",
   "metadata": {},
   "source": [
    "# Compute Interests"
   ]
  },
  {
   "cell_type": "code",
   "execution_count": 8,
   "metadata": {},
   "outputs": [],
   "source": [
    "def interest_generator(bookmarks, ratings, favorites):\n",
    "    bookmarks = bookmarks.merge(ratings.drop(\"time\", axis=1), on=['id_profile', 'id_asset'], how = \"outer\")\\\n",
    "                         .merge(favorites, on=['id_profile', 'id_asset'], how = \"outer\")\\\n",
    "                         .fillna(0)\n",
    "    \n",
    "    ratings = None\n",
    "    del ratings\n",
    "    gc.collect()\n",
    "    \n",
    "    favorites = None\n",
    "    del favorites\n",
    "    gc.collect()\n",
    "    \n",
    "    bookmarks[\"w\"] = bookmarks[\"time\"].apply(lambda x : 1 if x>0 else 0)\n",
    "    bookmarks[\"f\"] = bookmarks[\"added_date\"].apply(lambda x : 5 if x>0 else 0)\n",
    "    bookmarks[\"interest\"] = bookmarks[\"score\"] + bookmarks[\"f\"] + bookmarks[\"w\"]\n",
    "    return bookmarks[[\"id_profile\", \"id_asset\", \"interest\"]]"
   ]
  },
  {
   "cell_type": "code",
   "execution_count": 9,
   "metadata": {},
   "outputs": [],
   "source": [
    "bookmarks = interest_generator(bookmarks, ratings, favorites)"
   ]
  },
  {
   "cell_type": "code",
   "execution_count": 10,
   "metadata": {},
   "outputs": [
    {
     "data": {
      "text/html": [
       "<div>\n",
       "<style scoped>\n",
       "    .dataframe tbody tr th:only-of-type {\n",
       "        vertical-align: middle;\n",
       "    }\n",
       "\n",
       "    .dataframe tbody tr th {\n",
       "        vertical-align: top;\n",
       "    }\n",
       "\n",
       "    .dataframe thead th {\n",
       "        text-align: right;\n",
       "    }\n",
       "</style>\n",
       "<table border=\"1\" class=\"dataframe\">\n",
       "  <thead>\n",
       "    <tr style=\"text-align: right;\">\n",
       "      <th></th>\n",
       "      <th>id_profile</th>\n",
       "      <th>id_asset</th>\n",
       "      <th>interest</th>\n",
       "    </tr>\n",
       "  </thead>\n",
       "  <tbody>\n",
       "    <tr>\n",
       "      <th>0</th>\n",
       "      <td>10</td>\n",
       "      <td>24016</td>\n",
       "      <td>0.0</td>\n",
       "    </tr>\n",
       "    <tr>\n",
       "      <th>1</th>\n",
       "      <td>10</td>\n",
       "      <td>24042</td>\n",
       "      <td>0.0</td>\n",
       "    </tr>\n",
       "    <tr>\n",
       "      <th>2</th>\n",
       "      <td>10</td>\n",
       "      <td>24130</td>\n",
       "      <td>0.0</td>\n",
       "    </tr>\n",
       "    <tr>\n",
       "      <th>3</th>\n",
       "      <td>10</td>\n",
       "      <td>24250</td>\n",
       "      <td>0.0</td>\n",
       "    </tr>\n",
       "    <tr>\n",
       "      <th>4</th>\n",
       "      <td>10</td>\n",
       "      <td>24359</td>\n",
       "      <td>1.0</td>\n",
       "    </tr>\n",
       "  </tbody>\n",
       "</table>\n",
       "</div>"
      ],
      "text/plain": [
       "   id_profile  id_asset  interest\n",
       "0          10     24016       0.0\n",
       "1          10     24042       0.0\n",
       "2          10     24130       0.0\n",
       "3          10     24250       0.0\n",
       "4          10     24359       1.0"
      ]
     },
     "execution_count": 10,
     "metadata": {},
     "output_type": "execute_result"
    }
   ],
   "source": [
    "bookmarks.head()"
   ]
  },
  {
   "cell_type": "code",
   "execution_count": 12,
   "metadata": {},
   "outputs": [],
   "source": [
    "train = np.load('./recommendation/bookmarks_idx_train.npy')\n",
    "test = np.load('./recommendation/bookmarks_idx_test.npy')"
   ]
  },
  {
   "cell_type": "code",
   "execution_count": 13,
   "metadata": {},
   "outputs": [],
   "source": [
    "train_set = bookmarks.iloc[train].drop_duplicates(subset=['id_profile', 'id_asset'])\n",
    "train = None\n",
    "gc.collect()\n",
    "del train\n",
    "\n",
    "test_set = bookmarks.iloc[test].drop_duplicates(subset=['id_profile', 'id_asset'])\n",
    "test = None\n",
    "gc.collect()\n",
    "del test\n",
    "\n",
    "bookmarks = None\n",
    "gc.collect()\n",
    "del bookmarks"
   ]
  },
  {
   "cell_type": "markdown",
   "metadata": {},
   "source": [
    "# SVD++"
   ]
  },
  {
   "cell_type": "code",
   "execution_count": 14,
   "metadata": {},
   "outputs": [
    {
     "data": {
      "text/plain": [
       "20"
      ]
     },
     "execution_count": 14,
     "metadata": {},
     "output_type": "execute_result"
    }
   ],
   "source": [
    "gc.collect()"
   ]
  },
  {
   "cell_type": "markdown",
   "metadata": {},
   "source": [
    "Approche non Vectorisée"
   ]
  },
  {
   "cell_type": "code",
   "execution_count": 15,
   "metadata": {},
   "outputs": [],
   "source": [
    "from random import random"
   ]
  },
  {
   "cell_type": "code",
   "execution_count": 17,
   "metadata": {},
   "outputs": [],
   "source": [
    "f = 50"
   ]
  },
  {
   "cell_type": "code",
   "execution_count": 18,
   "metadata": {},
   "outputs": [],
   "source": [
    "#train_set.sort_values(by=[\"id_profile\"], inplace=True)"
   ]
  },
  {
   "cell_type": "code",
   "execution_count": 19,
   "metadata": {},
   "outputs": [
    {
     "data": {
      "text/html": [
       "<div>\n",
       "<style scoped>\n",
       "    .dataframe tbody tr th:only-of-type {\n",
       "        vertical-align: middle;\n",
       "    }\n",
       "\n",
       "    .dataframe tbody tr th {\n",
       "        vertical-align: top;\n",
       "    }\n",
       "\n",
       "    .dataframe thead th {\n",
       "        text-align: right;\n",
       "    }\n",
       "</style>\n",
       "<table border=\"1\" class=\"dataframe\">\n",
       "  <thead>\n",
       "    <tr style=\"text-align: right;\">\n",
       "      <th></th>\n",
       "      <th>id_profile</th>\n",
       "      <th>id_asset</th>\n",
       "      <th>interest</th>\n",
       "    </tr>\n",
       "  </thead>\n",
       "  <tbody>\n",
       "    <tr>\n",
       "      <th>39963458</th>\n",
       "      <td>326534</td>\n",
       "      <td>202094</td>\n",
       "      <td>0.0</td>\n",
       "    </tr>\n",
       "    <tr>\n",
       "      <th>41808284</th>\n",
       "      <td>133318</td>\n",
       "      <td>5343689</td>\n",
       "      <td>0.0</td>\n",
       "    </tr>\n",
       "    <tr>\n",
       "      <th>37973227</th>\n",
       "      <td>1101174</td>\n",
       "      <td>86739</td>\n",
       "      <td>1.0</td>\n",
       "    </tr>\n",
       "    <tr>\n",
       "      <th>43528603</th>\n",
       "      <td>1264136</td>\n",
       "      <td>5349884</td>\n",
       "      <td>0.0</td>\n",
       "    </tr>\n",
       "    <tr>\n",
       "      <th>9434040</th>\n",
       "      <td>1093487</td>\n",
       "      <td>1547</td>\n",
       "      <td>0.0</td>\n",
       "    </tr>\n",
       "  </tbody>\n",
       "</table>\n",
       "</div>"
      ],
      "text/plain": [
       "          id_profile  id_asset  interest\n",
       "39963458      326534    202094       0.0\n",
       "41808284      133318   5343689       0.0\n",
       "37973227     1101174     86739       1.0\n",
       "43528603     1264136   5349884       0.0\n",
       "9434040      1093487      1547       0.0"
      ]
     },
     "execution_count": 19,
     "metadata": {},
     "output_type": "execute_result"
    }
   ],
   "source": [
    "train_set.head()"
   ]
  },
  {
   "cell_type": "code",
   "execution_count": 20,
   "metadata": {},
   "outputs": [],
   "source": [
    "mu = np.mean(train_set.interest.values)"
   ]
  },
  {
   "cell_type": "code",
   "execution_count": 21,
   "metadata": {},
   "outputs": [],
   "source": [
    "train_set = train_set[train_set.interest > 0]"
   ]
  },
  {
   "cell_type": "code",
   "execution_count": 22,
   "metadata": {},
   "outputs": [],
   "source": [
    "unique_assets_train = pd.unique(train_set.id_asset)\n",
    "unique_profiles_train = pd.unique(train_set.id_profile)\n",
    "\n",
    "number_of_films = len(unique_assets_train)\n",
    "number_of_users = len(unique_profiles_train)"
   ]
  },
  {
   "cell_type": "code",
   "execution_count": 23,
   "metadata": {},
   "outputs": [
    {
     "data": {
      "text/plain": [
       "0"
      ]
     },
     "execution_count": 23,
     "metadata": {},
     "output_type": "execute_result"
    }
   ],
   "source": [
    "group = train_set[train_set.interest > 0].groupby(\"id_profile\")\n",
    "Nu = group['id_asset'].apply(list)\n",
    "Nu_count = group['id_asset'].count()\n",
    "\n",
    "group = None\n",
    "del group\n",
    "gc.collect()"
   ]
  },
  {
   "cell_type": "code",
   "execution_count": 24,
   "metadata": {},
   "outputs": [],
   "source": [
    "hashmap_u_to_index = {j:i for i,j in enumerate(unique_profiles_train)}\n",
    "hashmap_i_to_index = {j:i for i,j in enumerate(unique_assets_train)}"
   ]
  },
  {
   "cell_type": "code",
   "execution_count": 25,
   "metadata": {},
   "outputs": [
    {
     "data": {
      "text/plain": [
       "0"
      ]
     },
     "execution_count": 25,
     "metadata": {},
     "output_type": "execute_result"
    }
   ],
   "source": [
    "unique_profiles_train = None\n",
    "del unique_profiles_train\n",
    "gc.collect()\n",
    "\n",
    "unique_assets_train = None\n",
    "del unique_assets_train\n",
    "gc.collect()"
   ]
  },
  {
   "cell_type": "code",
   "execution_count": 26,
   "metadata": {},
   "outputs": [],
   "source": [
    "bu = np.random.randn(number_of_users)\n",
    "bi = np.random.randn(number_of_films)\n",
    "\n",
    "qi = np.random.randn(number_of_films, f)\n",
    "pu = np.random.randn(number_of_users, f)\n",
    "yi = np.random.randn(number_of_films, f)"
   ]
  },
  {
   "cell_type": "code",
   "execution_count": 27,
   "metadata": {},
   "outputs": [],
   "source": [
    "num_chunks = 10\n",
    "all_chunks = [sparse.coo_matrix((df_subset.interest.values, (df_subset.id_profile.values, df_subset.id_asset.values))) for df_subset in np.array_split(train_set, num_chunks)] "
   ]
  },
  {
   "cell_type": "code",
   "execution_count": 28,
   "metadata": {},
   "outputs": [],
   "source": [
    "rui = sparse.coo_matrix((train_set.interest.values, (train_set.id_profile.values, train_set.id_asset.values)))"
   ]
  },
  {
   "cell_type": "code",
   "execution_count": 29,
   "metadata": {},
   "outputs": [],
   "source": [
    "train_set = None\n",
    "gc.collect()\n",
    "del train_set"
   ]
  },
  {
   "cell_type": "code",
   "execution_count": 30,
   "metadata": {},
   "outputs": [],
   "source": [
    "def dict_values_to_array(d):\n",
    "    return np.array(list(d.values()))\n",
    "\n",
    "def calculer_sum_yj(Nu, yi, u):\n",
    "    return np.sum(yi[[hashmap_i_to_index[ii] for ii in \\\n",
    "                      Nu[u]]], axis=0)\n",
    "\n",
    "def calculer_rui_chapeau(mu, bu, bi, qi, pu, Nu, Nu_count, yi, u, i, u_index, i_index):\n",
    "    yj = calculer_sum_yj(Nu, yi, u)\n",
    "    rui_chapeau =  mu + \\\n",
    "                   bu[u_index] + \\\n",
    "                   bi[i_index] + \\\n",
    "                   np.dot(qi[i_index].T, pu[u_index] + \\\n",
    "                   (1/np.sqrt(Nu_count[u]))* \\\n",
    "                   yj)\n",
    "    return rui_chapeau\n",
    "\n",
    "def calculer_cost(rui, mu, bu, bi, qi, pu, Nu, Nu_count, yi, gamma=0.007, lambda6=0.005, lambda7=0.015):\n",
    "    cost = 0\n",
    "    for u, i, rui_u_i in tqdm(zip(rui.row, rui.col, rui.data), total=len(rui.data)):\n",
    "        u_index = hashmap_u_to_index[u]\n",
    "        i_index = hashmap_i_to_index[i]\n",
    "        \n",
    "        cost += np.power(rui_u_i - calculer_rui_chapeau(mu, bu, bi, qi, pu, Nu, Nu_count, yi, u, i, u_index, i_index), 2)\n",
    "    cost += lambda6*(np.sum(np.power(dict_values_to_array(bi), 2)) + np.sum(np.power(dict_values_to_array(bu), 2)))\n",
    "    cost += lambda7*(np.sum(np.power(dict_values_to_array(qi), 2)) + np.sum(np.power(dict_values_to_array(pu), 2)) + np.sum(np.power(dict_values_to_array(yi), 2)))\n",
    "    return cost\n",
    "\n",
    "def estimer_parametres(rui, mu, bu, bi, qi, pu, Nu, Nu_count, yi, gamma=0.007, lambda6=0.005, lambda7=0.015):\n",
    "    rmse = 0\n",
    "    for u, i, rui_u_i in tqdm(zip(rui.row, rui.col, rui.data), total=len(rui.data)):\n",
    "        u_index = hashmap_u_to_index[u]\n",
    "        i_index = hashmap_i_to_index[i]\n",
    "        \n",
    "        diff = rui_u_i - calculer_rui_chapeau(mu, bu, bi, qi, pu, Nu, Nu_count, yi, u, i, u_index, i_index)\n",
    "        rmse += diff**2\n",
    "        \n",
    "        bu[u_index] += gamma * (diff - lambda6*bu[u_index])\n",
    "        pu[u_index] += gamma * (np.multiply(diff, qi[i_index]) - lambda7*pu[u_index])\n",
    "        \n",
    "        bi[i_index] += gamma*(diff - lambda6*bi[i_index])\n",
    "        qi[i_index] += gamma*(np.multiply(diff, (pu[u_index] + (1/np.sqrt(Nu_count[u]))*calculer_sum_yj(Nu, yi, u))) - lambda7*qi[i_index])\n",
    "        yi[i_index] += gamma*(np.multiply(diff, (1/np.sqrt(Nu_count[u]))*qi[i_index]) - lambda7*yi[i_index])\n",
    "    return np.sqrt(rmse/len(rui.data))"
   ]
  },
  {
   "cell_type": "code",
   "execution_count": 31,
   "metadata": {},
   "outputs": [],
   "source": [
    "lambda6 = 0.005\n",
    "lambda7 = 0.015\n",
    "epochs = 20\n",
    "gamma = 0.007\n",
    "\n",
    "def train_process(rui_chunk, gamma):\n",
    "    rmse_list = list()\n",
    "    for epoch in range(1, epochs+1):\n",
    "        rmse = estimer_parametres(rui_chunk, \n",
    "                                   mu, \n",
    "                                   bu, \n",
    "                                   bi, \n",
    "                                   qi, \n",
    "                                   pu, \n",
    "                                   Nu, \n",
    "                                   Nu_count, \n",
    "                                   yi,\n",
    "                                   gamma = gamma)\n",
    "\n",
    "        rmse_list.append(rmse)\n",
    "        gc.collect()\n",
    "        gamma *= 0.9\n",
    "    return rmse_list"
   ]
  },
  {
   "cell_type": "code",
   "execution_count": 32,
   "metadata": {},
   "outputs": [
    {
     "name": "stderr",
     "output_type": "stream",
     "text": [
      "  0%|          | 456/436361 [00:00<01:36, 4514.89it/s]"
     ]
    },
    {
     "name": "stdout",
     "output_type": "stream",
     "text": [
      "Chunk 0 started\n"
     ]
    },
    {
     "name": "stderr",
     "output_type": "stream",
     "text": [
      "100%|██████████| 436361/436361 [00:50<00:00, 8668.50it/s]\n",
      "100%|██████████| 436361/436361 [00:48<00:00, 9006.50it/s]\n",
      "100%|██████████| 436361/436361 [00:50<00:00, 8576.06it/s]\n",
      "100%|██████████| 436361/436361 [00:50<00:00, 8599.83it/s]\n",
      "100%|██████████| 436361/436361 [00:50<00:00, 8683.01it/s]\n",
      "100%|██████████| 436361/436361 [00:49<00:00, 8826.78it/s]\n",
      "100%|██████████| 436361/436361 [00:49<00:00, 8845.92it/s]\n",
      "100%|██████████| 436361/436361 [00:50<00:00, 8715.66it/s]\n",
      "100%|██████████| 436361/436361 [00:49<00:00, 8879.54it/s]\n",
      "100%|██████████| 436361/436361 [00:49<00:00, 8839.92it/s]\n",
      "100%|██████████| 436361/436361 [00:50<00:00, 8589.35it/s]\n",
      "100%|██████████| 436361/436361 [00:49<00:00, 8775.12it/s]\n",
      "100%|██████████| 436361/436361 [00:49<00:00, 8835.99it/s]\n",
      "100%|██████████| 436361/436361 [00:49<00:00, 8813.94it/s]\n",
      "100%|██████████| 436361/436361 [00:49<00:00, 8808.87it/s]\n",
      "100%|██████████| 436361/436361 [00:48<00:00, 8969.01it/s]\n",
      "100%|██████████| 436361/436361 [00:47<00:00, 9223.95it/s]\n",
      "100%|██████████| 436361/436361 [00:48<00:00, 8972.61it/s]\n",
      "100%|██████████| 436361/436361 [00:46<00:00, 9304.86it/s]\n",
      "100%|██████████| 436361/436361 [00:47<00:00, 9155.12it/s]\n",
      "  0%|          | 904/436361 [00:00<00:48, 9039.97it/s]"
     ]
    },
    {
     "name": "stdout",
     "output_type": "stream",
     "text": [
      "Chunk 1 started\n"
     ]
    },
    {
     "name": "stderr",
     "output_type": "stream",
     "text": [
      "100%|██████████| 436361/436361 [00:47<00:00, 9161.66it/s]\n",
      "100%|██████████| 436361/436361 [00:47<00:00, 9124.78it/s]\n",
      "100%|██████████| 436361/436361 [00:48<00:00, 9055.29it/s]\n",
      "100%|██████████| 436361/436361 [00:47<00:00, 9269.09it/s]\n",
      "100%|██████████| 436361/436361 [00:48<00:00, 8986.29it/s]\n",
      "100%|██████████| 436361/436361 [00:47<00:00, 9191.47it/s]\n",
      "100%|██████████| 436361/436361 [00:47<00:00, 9281.40it/s]\n",
      "100%|██████████| 436361/436361 [00:49<00:00, 8849.33it/s]\n",
      "100%|██████████| 436361/436361 [00:46<00:00, 9313.49it/s]\n",
      "100%|██████████| 436361/436361 [00:47<00:00, 9175.93it/s]\n",
      "100%|██████████| 436361/436361 [00:47<00:00, 9225.38it/s]\n",
      "100%|██████████| 436361/436361 [00:47<00:00, 9110.68it/s]\n",
      "100%|██████████| 436361/436361 [00:47<00:00, 9150.79it/s]\n",
      "100%|██████████| 436361/436361 [00:46<00:00, 9296.33it/s]\n",
      "100%|██████████| 436361/436361 [00:47<00:00, 9111.34it/s]\n",
      "100%|██████████| 436361/436361 [00:47<00:00, 9186.74it/s]\n",
      "100%|██████████| 436361/436361 [00:46<00:00, 9335.72it/s]\n",
      "100%|██████████| 436361/436361 [00:47<00:00, 9146.39it/s]\n",
      "100%|██████████| 436361/436361 [00:48<00:00, 9068.57it/s]\n",
      "100%|██████████| 436361/436361 [00:47<00:00, 9234.75it/s]\n",
      "  0%|          | 911/436361 [00:00<00:47, 9109.88it/s]"
     ]
    },
    {
     "name": "stdout",
     "output_type": "stream",
     "text": [
      "Chunk 2 started\n"
     ]
    },
    {
     "name": "stderr",
     "output_type": "stream",
     "text": [
      "100%|██████████| 436361/436361 [00:47<00:00, 9262.20it/s]\n",
      "100%|██████████| 436361/436361 [00:47<00:00, 9209.81it/s]\n",
      "100%|██████████| 436361/436361 [00:48<00:00, 8923.99it/s]\n",
      "100%|██████████| 436361/436361 [00:46<00:00, 9335.72it/s]\n",
      "100%|██████████| 436361/436361 [00:47<00:00, 9234.17it/s]\n",
      "100%|██████████| 436361/436361 [00:47<00:00, 9098.90it/s]\n",
      "100%|██████████| 436361/436361 [00:46<00:00, 9333.82it/s]\n",
      "100%|██████████| 436361/436361 [00:47<00:00, 9164.26it/s]\n",
      "100%|██████████| 436361/436361 [00:46<00:00, 9347.22it/s]\n",
      "100%|██████████| 436361/436361 [00:48<00:00, 9045.52it/s]\n",
      "100%|██████████| 436361/436361 [00:47<00:00, 9259.35it/s]\n",
      "100%|██████████| 436361/436361 [00:46<00:00, 9358.64it/s]\n",
      "100%|██████████| 436361/436361 [00:48<00:00, 9070.14it/s]\n",
      "100%|██████████| 436361/436361 [00:47<00:00, 9194.47it/s]\n",
      "100%|██████████| 436361/436361 [00:47<00:00, 9270.17it/s]\n",
      "100%|██████████| 436361/436361 [00:47<00:00, 9248.95it/s]\n",
      "100%|██████████| 436361/436361 [00:47<00:00, 9145.54it/s]\n",
      "100%|██████████| 436361/436361 [00:47<00:00, 9150.61it/s]\n",
      "100%|██████████| 436361/436361 [00:46<00:00, 9333.51it/s]\n",
      "100%|██████████| 436361/436361 [00:47<00:00, 9239.15it/s]\n",
      "  0%|          | 918/436361 [00:00<00:47, 9179.83it/s]"
     ]
    },
    {
     "name": "stdout",
     "output_type": "stream",
     "text": [
      "Chunk 3 started\n"
     ]
    },
    {
     "name": "stderr",
     "output_type": "stream",
     "text": [
      "100%|██████████| 436361/436361 [00:48<00:00, 9008.74it/s]\n",
      "100%|██████████| 436361/436361 [00:46<00:00, 9327.04it/s]\n",
      "100%|██████████| 436361/436361 [00:47<00:00, 9140.40it/s]\n",
      "100%|██████████| 436361/436361 [00:48<00:00, 9076.66it/s]\n",
      "100%|██████████| 436361/436361 [00:47<00:00, 9261.31it/s]\n",
      "100%|██████████| 436361/436361 [00:47<00:00, 9210.78it/s]\n",
      "100%|██████████| 436361/436361 [00:46<00:00, 9341.41it/s]\n",
      "100%|██████████| 436361/436361 [00:48<00:00, 8973.07it/s]\n",
      "100%|██████████| 436361/436361 [00:46<00:00, 9363.96it/s]\n",
      "100%|██████████| 436361/436361 [00:46<00:00, 9293.96it/s]\n",
      "100%|██████████| 436361/436361 [00:47<00:00, 9102.32it/s]\n",
      "100%|██████████| 436361/436361 [00:47<00:00, 9155.35it/s]\n",
      "100%|██████████| 436361/436361 [00:47<00:00, 9188.67it/s]\n",
      "100%|██████████| 436361/436361 [00:46<00:00, 9329.56it/s]\n",
      "100%|██████████| 436361/436361 [00:48<00:00, 9005.21it/s]\n",
      "100%|██████████| 436361/436361 [00:47<00:00, 9093.44it/s]\n",
      "100%|██████████| 436361/436361 [00:46<00:00, 9382.19it/s]\n",
      "100%|██████████| 436361/436361 [00:47<00:00, 9150.91it/s]\n",
      "100%|██████████| 436361/436361 [00:47<00:00, 9137.88it/s]\n",
      "100%|██████████| 436361/436361 [00:46<00:00, 9364.77it/s]\n",
      "  0%|          | 903/436361 [00:00<00:48, 8940.44it/s]"
     ]
    },
    {
     "name": "stdout",
     "output_type": "stream",
     "text": [
      "Chunk 4 started\n"
     ]
    },
    {
     "name": "stderr",
     "output_type": "stream",
     "text": [
      "100%|██████████| 436361/436361 [00:47<00:00, 9150.33it/s]\n",
      "100%|██████████| 436361/436361 [00:47<00:00, 9100.33it/s]\n",
      "100%|██████████| 436361/436361 [00:48<00:00, 9087.26it/s]\n",
      "100%|██████████| 436361/436361 [00:46<00:00, 9291.79it/s]\n",
      "100%|██████████| 436361/436361 [00:46<00:00, 9336.32it/s]\n",
      "100%|██████████| 436361/436361 [00:48<00:00, 8987.68it/s]\n",
      "100%|██████████| 436361/436361 [00:46<00:00, 9387.34it/s]\n",
      "100%|██████████| 436361/436361 [00:47<00:00, 9250.23it/s]\n",
      "100%|██████████| 436361/436361 [00:47<00:00, 9204.57it/s]\n",
      "100%|██████████| 436361/436361 [00:47<00:00, 9158.21it/s]\n",
      "100%|██████████| 436361/436361 [00:47<00:00, 9162.24it/s]\n",
      "100%|██████████| 436361/436361 [00:46<00:00, 9401.29it/s]\n",
      "100%|██████████| 436361/436361 [00:48<00:00, 8993.61it/s]\n",
      "100%|██████████| 436361/436361 [00:47<00:00, 9270.08it/s]\n",
      "100%|██████████| 436361/436361 [00:46<00:00, 9378.46it/s]\n",
      "100%|██████████| 436361/436361 [00:47<00:00, 9104.13it/s]\n",
      "100%|██████████| 436361/436361 [00:47<00:00, 9154.94it/s]\n",
      "100%|██████████| 436361/436361 [00:47<00:00, 9236.13it/s]\n",
      "100%|██████████| 436361/436361 [00:47<00:00, 9273.42it/s]\n",
      "100%|██████████| 436361/436361 [00:47<00:00, 9205.73it/s]\n",
      "  0%|          | 876/436361 [00:00<00:50, 8673.32it/s]"
     ]
    },
    {
     "name": "stdout",
     "output_type": "stream",
     "text": [
      "Chunk 5 started\n"
     ]
    },
    {
     "name": "stderr",
     "output_type": "stream",
     "text": [
      "100%|██████████| 436361/436361 [00:48<00:00, 9090.29it/s]\n",
      "100%|██████████| 436361/436361 [00:46<00:00, 9292.38it/s]\n",
      "100%|██████████| 436361/436361 [00:47<00:00, 9154.37it/s]\n",
      "100%|██████████| 436361/436361 [00:48<00:00, 8953.93it/s]\n",
      "100%|██████████| 436361/436361 [00:46<00:00, 9295.35it/s]\n",
      "100%|██████████| 436361/436361 [00:48<00:00, 9034.58it/s]\n",
      "100%|██████████| 436361/436361 [00:47<00:00, 9191.38it/s]\n",
      "100%|██████████| 436361/436361 [00:48<00:00, 9033.27it/s]\n",
      "100%|██████████| 436361/436361 [00:47<00:00, 9162.63it/s]\n",
      "100%|██████████| 436361/436361 [00:47<00:00, 9219.73it/s]\n",
      "100%|██████████| 436361/436361 [00:49<00:00, 8883.93it/s]\n",
      "100%|██████████| 436361/436361 [00:47<00:00, 9284.08it/s]\n",
      "100%|██████████| 436361/436361 [00:47<00:00, 9240.43it/s]\n",
      "100%|██████████| 436361/436361 [00:47<00:00, 9139.60it/s]\n",
      "100%|██████████| 436361/436361 [00:48<00:00, 9087.07it/s]\n",
      "100%|██████████| 436361/436361 [00:48<00:00, 9072.14it/s]\n",
      "100%|██████████| 436361/436361 [00:47<00:00, 9257.29it/s]\n",
      "100%|██████████| 436361/436361 [00:48<00:00, 8922.81it/s]\n",
      "100%|██████████| 436361/436361 [00:47<00:00, 9113.45it/s]\n",
      "100%|██████████| 436361/436361 [00:47<00:00, 9261.03it/s]\n",
      "  0%|          | 1834/436361 [00:00<00:47, 9124.70it/s]"
     ]
    },
    {
     "name": "stdout",
     "output_type": "stream",
     "text": [
      "Chunk 6 started\n"
     ]
    },
    {
     "name": "stderr",
     "output_type": "stream",
     "text": [
      "100%|██████████| 436361/436361 [00:48<00:00, 9040.19it/s]\n",
      "100%|██████████| 436361/436361 [00:48<00:00, 9057.83it/s]\n",
      "100%|██████████| 436361/436361 [00:47<00:00, 9176.89it/s]\n",
      "100%|██████████| 436361/436361 [00:47<00:00, 9166.09it/s]\n",
      "100%|██████████| 436361/436361 [00:47<00:00, 9157.24it/s]\n",
      "100%|██████████| 436361/436361 [00:48<00:00, 8948.79it/s]\n",
      "100%|██████████| 436361/436361 [00:47<00:00, 9256.11it/s]\n",
      "100%|██████████| 436361/436361 [00:47<00:00, 9149.56it/s]\n",
      "100%|██████████| 436361/436361 [00:49<00:00, 8898.06it/s]\n",
      "100%|██████████| 436361/436361 [00:46<00:00, 9291.59it/s]\n",
      "100%|██████████| 436361/436361 [00:47<00:00, 9096.73it/s]\n",
      "100%|██████████| 436361/436361 [00:47<00:00, 9245.72it/s]\n",
      "100%|██████████| 436361/436361 [00:48<00:00, 8985.83it/s]\n",
      "100%|██████████| 436361/436361 [00:47<00:00, 9179.59it/s]\n",
      "100%|██████████| 436361/436361 [00:47<00:00, 9280.13it/s]\n",
      "100%|██████████| 436361/436361 [00:48<00:00, 8974.56it/s]\n",
      "100%|██████████| 436361/436361 [00:47<00:00, 9184.61it/s]\n",
      "100%|██████████| 436361/436361 [00:47<00:00, 9215.84it/s]\n",
      "100%|██████████| 436361/436361 [00:47<00:00, 9211.95it/s]\n",
      "100%|██████████| 436361/436361 [00:47<00:00, 9130.23it/s]\n",
      "  0%|          | 1941/436361 [00:00<00:44, 9653.94it/s]"
     ]
    },
    {
     "name": "stdout",
     "output_type": "stream",
     "text": [
      "Chunk 7 started\n"
     ]
    },
    {
     "name": "stderr",
     "output_type": "stream",
     "text": [
      "100%|██████████| 436361/436361 [00:47<00:00, 9141.13it/s]\n",
      "100%|██████████| 436361/436361 [00:46<00:00, 9396.84it/s]\n",
      "100%|██████████| 436361/436361 [00:47<00:00, 9258.27it/s]\n",
      "100%|██████████| 436361/436361 [00:48<00:00, 9055.57it/s]\n",
      "100%|██████████| 436361/436361 [00:46<00:00, 9339.12it/s]\n",
      "100%|██████████| 436361/436361 [00:47<00:00, 9132.90it/s]\n",
      "100%|██████████| 436361/436361 [00:47<00:00, 9112.12it/s]\n",
      "100%|██████████| 436361/436361 [00:46<00:00, 9307.25it/s]\n",
      "100%|██████████| 436361/436361 [00:47<00:00, 9217.60it/s]\n",
      "100%|██████████| 436361/436361 [00:46<00:00, 9315.00it/s]\n",
      "100%|██████████| 436361/436361 [00:48<00:00, 8982.87it/s]\n",
      "100%|██████████| 436361/436361 [00:46<00:00, 9344.12it/s]\n",
      "100%|██████████| 436361/436361 [00:46<00:00, 9329.73it/s]\n",
      "100%|██████████| 436361/436361 [00:47<00:00, 9154.94it/s]\n",
      "100%|██████████| 436361/436361 [00:47<00:00, 9149.37it/s]\n",
      "100%|██████████| 436361/436361 [00:47<00:00, 9168.79it/s]\n",
      "100%|██████████| 436361/436361 [00:46<00:00, 9345.32it/s]\n",
      "100%|██████████| 436361/436361 [00:48<00:00, 9069.69it/s]\n",
      "100%|██████████| 436361/436361 [00:47<00:00, 9181.91it/s]\n",
      "100%|██████████| 436361/436361 [00:46<00:00, 9356.94it/s]\n",
      "  0%|          | 1923/436360 [00:00<00:45, 9570.03it/s]"
     ]
    },
    {
     "name": "stdout",
     "output_type": "stream",
     "text": [
      "Chunk 8 started\n"
     ]
    },
    {
     "name": "stderr",
     "output_type": "stream",
     "text": [
      "100%|██████████| 436360/436360 [00:47<00:00, 9233.37it/s]\n",
      "100%|██████████| 436360/436360 [00:48<00:00, 9087.05it/s]\n",
      "100%|██████████| 436360/436360 [00:46<00:00, 9336.10it/s]\n",
      "100%|██████████| 436360/436360 [00:47<00:00, 9220.50it/s]\n",
      "100%|██████████| 436360/436360 [00:46<00:00, 9296.12it/s]\n",
      "100%|██████████| 436360/436360 [00:48<00:00, 9050.67it/s]\n",
      "100%|██████████| 436360/436360 [00:46<00:00, 9301.47it/s]\n",
      "100%|██████████| 436360/436360 [00:46<00:00, 9381.87it/s]\n",
      "100%|██████████| 436360/436360 [00:48<00:00, 8975.83it/s]\n",
      "100%|██████████| 436360/436360 [00:46<00:00, 9313.19it/s]\n",
      "100%|██████████| 436360/436360 [00:47<00:00, 9238.06it/s]\n",
      "100%|██████████| 436360/436360 [00:47<00:00, 9269.07it/s]\n",
      "100%|██████████| 436360/436360 [00:47<00:00, 9136.90it/s]\n",
      "100%|██████████| 436360/436360 [00:47<00:00, 9180.92it/s]\n",
      "100%|██████████| 436360/436360 [00:46<00:00, 9407.76it/s]\n",
      "100%|██████████| 436360/436360 [00:47<00:00, 9209.79it/s]\n",
      "100%|██████████| 436360/436360 [00:47<00:00, 9094.43it/s]\n",
      "100%|██████████| 436360/436360 [00:46<00:00, 9379.85it/s]\n",
      "100%|██████████| 436360/436360 [00:47<00:00, 9177.83it/s]\n",
      "100%|██████████| 436360/436360 [00:47<00:00, 9210.96it/s]\n",
      "  0%|          | 923/436360 [00:00<00:47, 9229.90it/s]"
     ]
    },
    {
     "name": "stdout",
     "output_type": "stream",
     "text": [
      "Chunk 9 started\n"
     ]
    },
    {
     "name": "stderr",
     "output_type": "stream",
     "text": [
      "100%|██████████| 436360/436360 [00:47<00:00, 9178.41it/s]\n",
      "100%|██████████| 436360/436360 [00:47<00:00, 9269.27it/s]\n",
      "100%|██████████| 436360/436360 [00:46<00:00, 9337.10it/s]\n",
      "100%|██████████| 436360/436360 [00:48<00:00, 8972.32it/s]\n",
      "100%|██████████| 436360/436360 [00:46<00:00, 9373.81it/s]\n",
      "100%|██████████| 436360/436360 [00:47<00:00, 9274.00it/s]\n",
      "100%|██████████| 436360/436360 [00:47<00:00, 9167.22it/s]\n",
      "100%|██████████| 436360/436360 [00:47<00:00, 9173.97it/s]\n",
      "100%|██████████| 436360/436360 [00:47<00:00, 9128.11it/s]\n",
      "100%|██████████| 436360/436360 [00:46<00:00, 9354.52it/s]\n",
      "100%|██████████| 436360/436360 [00:47<00:00, 9149.54it/s]\n",
      "100%|██████████| 436360/436360 [00:47<00:00, 9121.05it/s]\n",
      "100%|██████████| 436360/436360 [00:46<00:00, 9316.57it/s]\n",
      "100%|██████████| 436360/436360 [00:47<00:00, 9124.86it/s]\n",
      "100%|██████████| 436360/436360 [00:47<00:00, 9098.04it/s]\n",
      "100%|██████████| 436360/436360 [00:46<00:00, 9298.30it/s]\n",
      "100%|██████████| 436360/436360 [00:47<00:00, 9193.49it/s]\n",
      "100%|██████████| 436360/436360 [00:46<00:00, 9296.92it/s]\n",
      "100%|██████████| 436360/436360 [00:48<00:00, 8976.20it/s]\n",
      "100%|██████████| 436360/436360 [00:46<00:00, 9338.50it/s]\n"
     ]
    }
   ],
   "source": [
    "rmse_list_list = list()\n",
    "for i, rui_chunk in enumerate(all_chunks):\n",
    "    print(\"Chunk {} started\".format(i))\n",
    "    rmse_list_list.append(train_process(rui_chunk, gamma))\n",
    "    np.save('./bu.npy', bu)\n",
    "    np.save('./bi.npy', bi)\n",
    "    np.save('./pu.npy', pu)\n",
    "    np.save('./qi.npy', qi)\n",
    "    np.save('./yi.npy', yi)"
   ]
  },
  {
   "cell_type": "code",
   "execution_count": 33,
   "metadata": {},
   "outputs": [
    {
     "data": {
      "text/plain": [
       "Text(0, 0.5, 'RMSE')"
      ]
     },
     "execution_count": 33,
     "metadata": {},
     "output_type": "execute_result"
    },
    {
     "data": {
      "image/png": "[encoded data removed]",
      "text/plain": [
       "<Figure size 1440x720 with 1 Axes>"
      ]
     },
     "metadata": {
      "needs_background": "light"
     },
     "output_type": "display_data"
    }
   ],
   "source": [
    "fig, ax = plt.subplots(figsize=(20, 10))\n",
    "for rmse_l in rmse_list_list:\n",
    "    ax = plt.plot(rmse_l)\n",
    "plt.title(\"RMSE Evolution (SVD++)\")\n",
    "plt.xlabel('Epoch')\n",
    "plt.ylabel('RMSE')"
   ]
  },
  {
   "cell_type": "code",
   "execution_count": 34,
   "metadata": {},
   "outputs": [],
   "source": [
    "np.save('./bu.npy', bu)\n",
    "np.save('./bi.npy', bi)\n",
    "np.save('./pu.npy', pu)\n",
    "np.save('./qi.npy', qi)\n",
    "np.save('./yi.npy', yi)"
   ]
  },
  {
   "cell_type": "code",
   "execution_count": 39,
   "metadata": {},
   "outputs": [],
   "source": [
    "def predict_interest(u, i):\n",
    "    u_index = hashmap_u_to_index[u]\n",
    "    i_index = hashmap_i_to_index[i]\n",
    "    \n",
    "    pred = mu\n",
    "    \n",
    "    try:\n",
    "        pred += bu[u]\n",
    "    except KeyError:\n",
    "        pass\n",
    "        #print(\"User {} not found\".format(u))\n",
    "        \n",
    "    try:\n",
    "        pred += bi[i]\n",
    "    except KeyError:\n",
    "        pass\n",
    "        #print(\"Film {} not found\".format(i))\n",
    "        \n",
    "    try:\n",
    "        pred = pred + calculer_rui_chapeau(mu, bu, bi, qi, pu, Nu, Nu_count, yi, u, i, u_index, i_index)\n",
    "    except KeyError:\n",
    "        pass\n",
    "        #print(\"Film {} / User {} not found\".format(i, u))\n",
    "        \n",
    "    return pred"
   ]
  },
  {
   "cell_type": "code",
   "execution_count": 40,
   "metadata": {},
   "outputs": [
    {
     "ename": "IndexError",
     "evalue": "index 1045347 is out of bounds for axis 0 with size 636390",
     "output_type": "error",
     "traceback": [
      "\u001b[1;31m---------------------------------------------------------------------------\u001b[0m",
      "\u001b[1;31mIndexError\u001b[0m                                Traceback (most recent call last)",
      "\u001b[1;32m<ipython-input-40-5b0ffec0a4c2>\u001b[0m in \u001b[0;36m<module>\u001b[1;34m\u001b[0m\n\u001b[1;32m----> 1\u001b[1;33m \u001b[0mtest_set\u001b[0m\u001b[1;33m[\u001b[0m\u001b[1;34m\"predicted_interest\"\u001b[0m\u001b[1;33m]\u001b[0m \u001b[1;33m=\u001b[0m \u001b[1;33m[\u001b[0m\u001b[0mpredict_interest\u001b[0m\u001b[1;33m(\u001b[0m\u001b[0mu\u001b[0m\u001b[1;33m,\u001b[0m \u001b[0mi\u001b[0m\u001b[1;33m)\u001b[0m \u001b[1;32mfor\u001b[0m \u001b[0mu\u001b[0m\u001b[1;33m,\u001b[0m\u001b[0mi\u001b[0m \u001b[1;32min\u001b[0m \u001b[0mzip\u001b[0m\u001b[1;33m(\u001b[0m\u001b[0mtest_set\u001b[0m\u001b[1;33m.\u001b[0m\u001b[0mid_profile\u001b[0m\u001b[1;33m.\u001b[0m\u001b[0mvalues\u001b[0m\u001b[1;33m,\u001b[0m \u001b[0mtest_set\u001b[0m\u001b[1;33m.\u001b[0m\u001b[0mid_asset\u001b[0m\u001b[1;33m.\u001b[0m\u001b[0mvalues\u001b[0m\u001b[1;33m)\u001b[0m\u001b[1;33m]\u001b[0m\u001b[1;33m\u001b[0m\u001b[1;33m\u001b[0m\u001b[0m\n\u001b[0m",
      "\u001b[1;32m<ipython-input-40-5b0ffec0a4c2>\u001b[0m in \u001b[0;36m<listcomp>\u001b[1;34m(.0)\u001b[0m\n\u001b[1;32m----> 1\u001b[1;33m \u001b[0mtest_set\u001b[0m\u001b[1;33m[\u001b[0m\u001b[1;34m\"predicted_interest\"\u001b[0m\u001b[1;33m]\u001b[0m \u001b[1;33m=\u001b[0m \u001b[1;33m[\u001b[0m\u001b[0mpredict_interest\u001b[0m\u001b[1;33m(\u001b[0m\u001b[0mu\u001b[0m\u001b[1;33m,\u001b[0m \u001b[0mi\u001b[0m\u001b[1;33m)\u001b[0m \u001b[1;32mfor\u001b[0m \u001b[0mu\u001b[0m\u001b[1;33m,\u001b[0m\u001b[0mi\u001b[0m \u001b[1;32min\u001b[0m \u001b[0mzip\u001b[0m\u001b[1;33m(\u001b[0m\u001b[0mtest_set\u001b[0m\u001b[1;33m.\u001b[0m\u001b[0mid_profile\u001b[0m\u001b[1;33m.\u001b[0m\u001b[0mvalues\u001b[0m\u001b[1;33m,\u001b[0m \u001b[0mtest_set\u001b[0m\u001b[1;33m.\u001b[0m\u001b[0mid_asset\u001b[0m\u001b[1;33m.\u001b[0m\u001b[0mvalues\u001b[0m\u001b[1;33m)\u001b[0m\u001b[1;33m]\u001b[0m\u001b[1;33m\u001b[0m\u001b[1;33m\u001b[0m\u001b[0m\n\u001b[0m",
      "\u001b[1;32m<ipython-input-39-d19b1cd7c8d4>\u001b[0m in \u001b[0;36mpredict_interest\u001b[1;34m(u, i)\u001b[0m\n\u001b[0;32m      6\u001b[0m \u001b[1;33m\u001b[0m\u001b[0m\n\u001b[0;32m      7\u001b[0m     \u001b[1;32mtry\u001b[0m\u001b[1;33m:\u001b[0m\u001b[1;33m\u001b[0m\u001b[1;33m\u001b[0m\u001b[0m\n\u001b[1;32m----> 8\u001b[1;33m         \u001b[0mpred\u001b[0m \u001b[1;33m+=\u001b[0m \u001b[0mbu\u001b[0m\u001b[1;33m[\u001b[0m\u001b[0mu\u001b[0m\u001b[1;33m]\u001b[0m\u001b[1;33m\u001b[0m\u001b[1;33m\u001b[0m\u001b[0m\n\u001b[0m\u001b[0;32m      9\u001b[0m     \u001b[1;32mexcept\u001b[0m \u001b[0mKeyError\u001b[0m\u001b[1;33m:\u001b[0m\u001b[1;33m\u001b[0m\u001b[1;33m\u001b[0m\u001b[0m\n\u001b[0;32m     10\u001b[0m         \u001b[1;32mpass\u001b[0m\u001b[1;33m\u001b[0m\u001b[1;33m\u001b[0m\u001b[0m\n",
      "\u001b[1;31mIndexError\u001b[0m: index 1045347 is out of bounds for axis 0 with size 636390"
     ]
    }
   ],
   "source": [
    "test_set[\"predicted_interest\"] = [predict_interest(u, i) for u,i in zip(test_set.id_profile.values, test_set.id_asset.values)]"
   ]
  },
  {
   "cell_type": "code",
   "execution_count": null,
   "metadata": {},
   "outputs": [],
   "source": [
    "test_set.head(50)"
   ]
  },
  {
   "cell_type": "code",
   "execution_count": null,
   "metadata": {},
   "outputs": [],
   "source": [
    "mean_squared_error(test_set.interest.values, test_set.predicted_interest.values)"
   ]
  }
 ],
 "metadata": {
  "kernelspec": {
   "display_name": "Python 3",
   "language": "python",
   "name": "python3"
  },
  "language_info": {
   "codemirror_mode": {
    "name": "ipython",
    "version": 3
   },
   "file_extension": ".py",
   "mimetype": "text/x-python",
   "name": "python",
   "nbconvert_exporter": "python",
   "pygments_lexer": "ipython3",
   "version": "3.8.5"
  }
 },
 "nbformat": 4,
 "nbformat_minor": 4
}