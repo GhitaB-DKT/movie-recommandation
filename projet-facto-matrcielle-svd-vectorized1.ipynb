{
 "cells": [
  {
   "cell_type": "markdown",
   "metadata": {},
   "source": [
    "# Importations"
   ]
  },
  {
   "cell_type": "code",
   "execution_count": null,
   "metadata": {},
   "outputs": [],
   "source": [
    "from sklearn.metrics import mean_squared_error\n",
    "import gc\n",
    "from scipy import sparse"
   ]
  },
  {
   "cell_type": "code",
   "execution_count": null,
   "metadata": {},
   "outputs": [],
   "source": [
    "import math"
   ]
  },
  {
   "cell_type": "code",
   "execution_count": null,
   "metadata": {
    "_cell_guid": "79c7e3d0-c299-4dcb-8224-4455121ee9b0",
    "_uuid": "d629ff2d2480ee46fbb7e2d37f6b5fab8052498a"
   },
   "outputs": [],
   "source": [
    "import numpy as np\n",
    "import pandas as pd\n",
    "import seaborn as sns\n",
    "from matplotlib import pyplot as plt\n",
    "from tqdm import tqdm\n",
    "from numpy import save"
   ]
  },
  {
   "cell_type": "markdown",
   "metadata": {},
   "source": [
    "# Read Data"
   ]
  },
  {
   "cell_type": "code",
   "execution_count": null,
   "metadata": {},
   "outputs": [],
   "source": [
    "bookmarks = pd.read_csv(\"../recommendations/bookmarks.csv\")\n",
    "#assets = pd.read_csv(\"../recommendations/assets.csv\", index_col=0)\n",
    "#assets_genres = pd.read_csv(\"../recommendations/asset_genres.csv\")\n",
    "favorites = pd.read_csv(\"../recommendations/favorites.csv\")\n",
    "#genres = pd.read_csv(\"../recommendations/genres.csv\")\n",
    "ratings = pd.read_csv(\"../recommendations/ratings.csv\")"
   ]
  },
  {
   "cell_type": "code",
   "execution_count": null,
   "metadata": {},
   "outputs": [],
   "source": [
    "bookmarks.head()"
   ]
  },
  {
   "cell_type": "code",
   "execution_count": null,
   "metadata": {},
   "outputs": [],
   "source": [
    "ratings.head()"
   ]
  },
  {
   "cell_type": "code",
   "execution_count": null,
   "metadata": {},
   "outputs": [],
   "source": [
    "favorites.head()"
   ]
  },
  {
   "cell_type": "markdown",
   "metadata": {},
   "source": [
    "# Compute Interests"
   ]
  },
  {
   "cell_type": "code",
   "execution_count": null,
   "metadata": {},
   "outputs": [],
   "source": [
    "def interest_generator(bookmarks):\n",
    "    bookmarks = bookmarks.merge(ratings.drop(\"time\", axis=1), on=['id_profile', 'id_asset'], how = \"left\")\\\n",
    "                         .merge(favorites, on=['id_profile', 'id_asset'], how = \"left\")\\\n",
    "                         .fillna(0)\n",
    "    bookmarks[\"w\"] = [1 for i in range(len(bookmarks))]\n",
    "    bookmarks[\"n\"] = bookmarks[\"score\"]\n",
    "    bookmarks[\"f\"] = bookmarks[\"added_date\"].apply(lambda x : 5 if x>0 else 0)\n",
    "    bookmarks[\"interest\"] = bookmarks[\"w\"] + bookmarks[\"n\"] + bookmarks[\"f\"]\n",
    "    return bookmarks[[\"id_profile\", \"id_asset\", \"interest\"]]"
   ]
  },
  {
   "cell_type": "code",
   "execution_count": null,
   "metadata": {},
   "outputs": [],
   "source": [
    "bookmarks = interest_generator(bookmarks)\n",
    "del ratings\n",
    "del favorites"
   ]
  },
  {
   "cell_type": "code",
   "execution_count": null,
   "metadata": {},
   "outputs": [],
   "source": [
    "bookmarks.head()"
   ]
  },
  {
   "cell_type": "code",
   "execution_count": null,
   "metadata": {},
   "outputs": [],
   "source": [
    "train = np.load('../input/recommendations/bookmarks_idx_train.npy')\n",
    "test = np.load('../input/recommendations/bookmarks_idx_test.npy')"
   ]
  },
  {
   "cell_type": "code",
   "execution_count": null,
   "metadata": {},
   "outputs": [],
   "source": [
    "train_set = bookmarks.iloc[train].drop_duplicates(subset=['id_profile', 'id_asset'])\n",
    "del train\n",
    "test_set = bookmarks.iloc[test].drop_duplicates(subset=['id_profile', 'id_asset'])\n",
    "del test\n",
    "del bookmarks"
   ]
  },
  {
   "cell_type": "markdown",
   "metadata": {},
   "source": [
    "# SVD++"
   ]
  },
  {
   "cell_type": "code",
   "execution_count": null,
   "metadata": {},
   "outputs": [],
   "source": [
    "gc.collect()"
   ]
  },
  {
   "cell_type": "code",
   "execution_count": null,
   "metadata": {},
   "outputs": [],
   "source": [
    "f = 18"
   ]
  },
  {
   "cell_type": "code",
   "execution_count": null,
   "metadata": {},
   "outputs": [],
   "source": [
    "train_set.sort_values(by=[\"id_profile\"], inplace=True)"
   ]
  },
  {
   "cell_type": "code",
   "execution_count": null,
   "metadata": {},
   "outputs": [],
   "source": [
    "train_set.head()"
   ]
  },
  {
   "cell_type": "code",
   "execution_count": null,
   "metadata": {},
   "outputs": [],
   "source": [
    "train_set_sparse = sparse.coo_matrix((train_set.interest.values, (train_set.id_profile.values, train_set.id_asset.values)))"
   ]
  },
  {
   "cell_type": "code",
   "execution_count": null,
   "metadata": {},
   "outputs": [],
   "source": [
    "train_set_sparse"
   ]
  },
  {
   "cell_type": "code",
   "execution_count": null,
   "metadata": {},
   "outputs": [],
   "source": [
    "mu = np.mean(train_set.interest.values)"
   ]
  },
  {
   "cell_type": "code",
   "execution_count": null,
   "metadata": {},
   "outputs": [],
   "source": [
    "unique_assets_train = pd.unique(train_set.id_asset)\n",
    "unique_profiles_train = pd.unique(train_set.id_profile)\n",
    "\n",
    "number_of_films = len(unique_assets_train)\n",
    "number_of_users = len(unique_profiles_train)"
   ]
  },
  {
   "cell_type": "code",
   "execution_count": null,
   "metadata": {},
   "outputs": [],
   "source": [
    "def dict_values_to_array(d):\n",
    "    return np.array(list(d.values()))\n",
    "\n",
    "def calculer_sum_yj(Nu, yi):\n",
    "    return yi\n",
    "\n",
    "def calculer_rui_chapeau(mu, bu, bi, qi, pu, Nu, Nu_count, yi):\n",
    "    yj = calculer_sum_yj(Nu, yi)\n",
    "    print(\"mu\", mu.shape)\n",
    "    print(\"bu\", bu.shape)\n",
    "    print(\"bi.T\" , bi.T.shape)\n",
    "    print(\"qi.T\" , qi.T.shape)\n",
    "    print(\"pu\" , pu.shape)\n",
    "    print(\"yj\" , yj.shape)\n",
    "    print(\"Nu_count\" , Nu_count.shape)\n",
    "    rui_chapeau =  mu + \\\n",
    "                   bu + \\\n",
    "                   bi.T + \\\n",
    "                   (np.dot(qi.T, pu + np.dot((1/np.sqrt(Nu_count)), yj.T).T)).T\n",
    "    print(\"rui_chapeau\" , rui_chapeau.shape)\n",
    "    return rui_chapeau\n",
    "\n",
    "def calculer_difference(rui, mu, bu, bi, qi, pu, Nu, Nu_count, yi):\n",
    "    return rui - calculer_rui_chapeau(mu, bu, bi, qi, pu, Nu, Nu_count, yi)\n",
    "\n",
    "def calculer_cost(list_u, list_i, rui, mu, bu, bi, qi, pu, Nu, Nu_count, yi, gamma=0.007, lambda6=0.005, lambda7=0.015):\n",
    "    cost = 0\n",
    "    cost += np.sum(np.power(calculer_difference(rui, mu, bu, bi, qi, pu, Nu, Nu_count, yi), 2), axis=None)\n",
    "    cost += lambda6*(np.sum(np.power(bi, 2), axis=None) + np.sum(np.power(bu, 2), axis=None))\n",
    "    cost += lambda7*(np.sum(np.power(qi, 2), axis=None) + np.sum(np.power(pu, 2), axis=None) + np.sum(np.power(yi, 2), axis=None))\n",
    "    return cost\n",
    "\n",
    "def estimer_parametres(list_u, list_i, rui, mu, bu, bi, qi, pu, Nu, Nu_count, yi, gamma=0.007, lambda6=0.005, lambda7=0.015):\n",
    "    \n",
    "    diff = calculer_difference(rui, mu, bu, bi, qi, pu, Nu, Nu_count, yi)\n",
    "    diff_sum_1 = np.sum(diff, axis=1)\n",
    "    diff_sum_1 = diff_sum_1.reshape(diff_sum_1.shape[0], 1)\n",
    "    diff_sum_0 = np.sum(diff, axis=0)\n",
    "    diff_sum_0 = diff_sum_0.reshape(diff_sum_0.shape[0], 1)\n",
    "    \n",
    "    print(\"diff\" , diff.shape)\n",
    "    print(\"diff sum axis1\" , diff_sum_1.shape)\n",
    "    print(\"diff sum axis0\" , diff_sum_0.shape)\n",
    "    \n",
    "    bu = bu + gamma * (diff_sum_1 - lambda6*bu)\n",
    "    pu = pu + gamma * (np.dot(diff, qi.T).T - lambda7*pu)\n",
    "    \n",
    "    bi = bi + gamma*(diff_sum_0 - lambda6*bi)\n",
    "    qi = qi + gamma*(np.dot(diff.T, pu.T + np.dot(1/np.sqrt(Nu_count), calculer_sum_yj(Nu, yi).T)).T - lambda7*qi)\n",
    "    yi = yi + gamma*(np.dot(np.dot(diff.T, (1/np.sqrt(Nu_count))).T, qi.T).T - lambda7*yi)\n",
    "    return bu, bi, qi, pu, yi"
   ]
  },
  {
   "cell_type": "code",
   "execution_count": null,
   "metadata": {},
   "outputs": [],
   "source": [
    "bu = np.random.randn(len(unique_profiles_train),1)\n",
    "bi = np.random.randn(len(unique_assets_train),1)\n",
    "\n",
    "qi = np.random.randn(f,len(unique_assets_train))\n",
    "pu = np.random.randn(f,len(unique_profiles_train))\n",
    "yi = np.random.randn(f,1)"
   ]
  },
  {
   "cell_type": "code",
   "execution_count": null,
   "metadata": {},
   "outputs": [],
   "source": [
    "epochs = 250\n",
    "gamma = 0.007 \n",
    "lambda6 = 0.005\n",
    "lambda7 = 0.015\n",
    "\n",
    "costs = list()\n",
    "\n",
    "user_batch_size = 2\n",
    "iters = math.ceil(len(unique_profiles_train)/user_batch_size)\n",
    "\n",
    "for epoch in range(1, epochs+1):\n",
    "    \n",
    "    average_cost = 0\n",
    "    for i in range(iters):\n",
    "        print(i)\n",
    "        train_set_subset = train_set.loc[train_set.id_profile.isin(unique_profiles_train[0*i:(i+1)*user_batch_size])]\n",
    "        \n",
    "        group = train_set_subset[train_set_subset.interest > 0].groupby(\"id_profile\")\n",
    "        Nu = group['id_asset'].apply(list)\n",
    "        Nu_count = group['id_asset'].count().to_numpy()\n",
    "        Nu_count = Nu_count.reshape(Nu_count.shape[0], 1)\n",
    "        del group\n",
    "        \n",
    "        rui_subset = train_set_subset.pivot(index='id_profile', columns='id_asset', values='interest').values\n",
    "        rui_u = rui_subset.shape[0]\n",
    "        rui_i = rui_subset.shape[1]\n",
    "        \n",
    "        print(\"Calculer Cost\")\n",
    "        \n",
    "        cost = calculer_cost(train_set_subset.id_profile.values,\n",
    "                            train_set_subset.id_asset.values, \n",
    "                            rui_subset, \n",
    "                            mu, \n",
    "                            bu[i*rui_u:(i+1)*rui_u], \n",
    "                            bi[i*rui_i:(i+1)*rui_i], \n",
    "                            qi[:, i*rui_i:(i+1)*rui_i], \n",
    "                            pu[:, i*rui_u:(i+1)*rui_u], \n",
    "                            Nu, \n",
    "                            Nu_count, \n",
    "                            yi)\n",
    "        gc.collect()\n",
    "        \n",
    "        average_cost += cost\n",
    "        print(cost)\n",
    "        \n",
    "        print(\"Estimer Parametres\")\n",
    "        \n",
    "        bu[i*rui_u:(i+1)*rui_u], bi[i*rui_i:(i+1)*rui_i], qi[:, i*rui_i:(i+1)*rui_i], pu[:, i*rui_u:(i+1)*rui_u], yi = estimer_parametres(train_set_subset.id_profile.values, \n",
    "                            train_set_subset.id_asset.values, \n",
    "                            rui_subset, \n",
    "                            mu, \n",
    "                            bu[i*rui_u:(i+1)*rui_u], \n",
    "                            bi[i*rui_i:(i+1)*rui_i], \n",
    "                            qi[:, i*rui_i:(i+1)*rui_i], \n",
    "                            pu[:, i*rui_u:(i+1)*rui_u],  \n",
    "                            Nu, \n",
    "                            Nu_count, \n",
    "                            yi,\n",
    "                            gamma = gamma)\n",
    "        \n",
    "        gc.collect()\n",
    "    costs.append(average_cost/iters)\n",
    "    gamma *= 0.9"
   ]
  },
  {
   "cell_type": "code",
   "execution_count": null,
   "metadata": {},
   "outputs": [],
   "source": [
    "fig, ax = plt.subplots(figsize=(20, 10))\n",
    "ax = plt.plot(costs)\n",
    "plt.title(\"Cost Function Evolution (SVD++)\")\n",
    "plt.xlabel('Epoch')\n",
    "plt.ylabel('Regularized RMSE')"
   ]
  },
  {
   "cell_type": "code",
   "execution_count": null,
   "metadata": {},
   "outputs": [],
   "source": [
    "np.save('bu.npy', dict_values_to_array(bu))\n",
    "np.save('bi.npy', dict_values_to_array(bi))\n",
    "np.save('pu.npy', dict_values_to_array(pu))\n",
    "np.save('qi.npy', dict_values_to_array(qi))\n",
    "np.save('yi.npy', dict_values_to_array(yi))"
   ]
  },
  {
   "cell_type": "code",
   "execution_count": null,
   "metadata": {},
   "outputs": [],
   "source": [
    "def predict_interest(u, i):\n",
    "    pred = mu\n",
    "    \n",
    "    try:\n",
    "        pred += bu[u]\n",
    "    except KeyError:\n",
    "        pass\n",
    "        #print(\"User {} not found\".format(u))\n",
    "        \n",
    "    try:\n",
    "        pred += bi[i]\n",
    "    except KeyError:\n",
    "        pass\n",
    "        #print(\"Film {} not found\".format(i))\n",
    "        \n",
    "    try:\n",
    "        pred = pred + calculer_rui_chapeau(mu, bu, bi, qi, pu, Nu, Nu_count, yi, u, i)\n",
    "    except KeyError:\n",
    "        pass\n",
    "        #print(\"Film {} / User {} not found\".format(i, u))\n",
    "        \n",
    "    return pred"
   ]
  },
  {
   "cell_type": "code",
   "execution_count": null,
   "metadata": {},
   "outputs": [],
   "source": [
    "test_set[\"predicted_interest\"] = [predict_interest(u, i) for u,i in zip(test_set.id_profile.values, test_set.id_asset.values)]"
   ]
  },
  {
   "cell_type": "code",
   "execution_count": null,
   "metadata": {},
   "outputs": [],
   "source": [
    "test_set.head(50)"
   ]
  },
  {
   "cell_type": "code",
   "execution_count": null,
   "metadata": {},
   "outputs": [],
   "source": [
    "mean_squared_error(test_set.interest.values, test_set.predicted_interest.values)"
   ]
  }
 ],
 "metadata": {
  "kernelspec": {
   "display_name": "Python 3",
   "language": "python",
   "name": "python3"
  },
  "language_info": {
   "codemirror_mode": {
    "name": "ipython",
    "version": 3
   },
   "file_extension": ".py",
   "mimetype": "text/x-python",
   "name": "python",
   "nbconvert_exporter": "python",
   "pygments_lexer": "ipython3",
   "version": "3.8.5"
  }
 },
 "nbformat": 4,
 "nbformat_minor": 4
}